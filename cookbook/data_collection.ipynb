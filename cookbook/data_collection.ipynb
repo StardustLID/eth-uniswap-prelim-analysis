{
 "cells": [
  {
   "cell_type": "markdown",
   "metadata": {},
   "source": [
    "# Data Collection\n",
    "We limit our scope to the top 10 pools (in terms of TVL)."
   ]
  },
  {
   "cell_type": "code",
   "execution_count": 1,
   "metadata": {},
   "outputs": [],
   "source": [
    "from pprint import pprint\n",
    "\n",
    "from gql import Client, gql\n",
    "from gql.transport.aiohttp import AIOHTTPTransport\n",
    "\n",
    "from pyammanalysis import run_query, uniswap_v3_subgraph_url"
   ]
  },
  {
   "cell_type": "code",
   "execution_count": 2,
   "metadata": {},
   "outputs": [
    {
     "name": "stdout",
     "output_type": "stream",
     "text": [
      "{'data': {'pools': [{'id': '0x2e5848efcfac935dd243c9094048ac346e198e1d'},\n",
      "                    {'id': '0x06bd1af522f43bc270203e96a019b4779195b870'},\n",
      "                    {'id': '0x18bb49dabec36c29af9450f420e675f46c416042'},\n",
      "                    {'id': '0xad76da68a204fe301cc9b1c60f7166db73d35e76'},\n",
      "                    {'id': '0x058e136bc597082589d2cf5d0d021e22b6556a9c'},\n",
      "                    {'id': '0x2df3f8e466d4924d86c35213dcef8c6955c6813a'},\n",
      "                    {'id': '0xabb670b47096728571672408057ac258176c3809'},\n",
      "                    {'id': '0xedcfece1060e568e10425e95e35b179d5b5a2b5f'},\n",
      "                    {'id': '0xe744f5e2edfdcb9fdb43b288ecb8b21c8487e888'},\n",
      "                    {'id': '0x235c74836bf329a8c4172af9d07173f38026a49c'}]}}\n"
     ]
    }
   ],
   "source": [
    "most_liquid_pool_ids_query = \"\"\"\n",
    "{\n",
    "  pools(first: 10, orderBy: liquidity, orderDirection: desc) {\n",
    "    id\n",
    "  }\n",
    "}\n",
    "\"\"\"\n",
    "\n",
    "most_liquid_pool_ids = run_query(uniswap_v3_subgraph_url(), most_liquid_pool_ids_query)\n",
    "pprint(most_liquid_pool_ids)"
   ]
  },
  {
   "cell_type": "code",
   "execution_count": 3,
   "metadata": {},
   "outputs": [
    {
     "data": {
      "text/plain": [
       "['0x2e5848efcfac935dd243c9094048ac346e198e1d',\n",
       " '0x06bd1af522f43bc270203e96a019b4779195b870',\n",
       " '0x18bb49dabec36c29af9450f420e675f46c416042',\n",
       " '0xad76da68a204fe301cc9b1c60f7166db73d35e76',\n",
       " '0x058e136bc597082589d2cf5d0d021e22b6556a9c',\n",
       " '0x2df3f8e466d4924d86c35213dcef8c6955c6813a',\n",
       " '0xabb670b47096728571672408057ac258176c3809',\n",
       " '0xedcfece1060e568e10425e95e35b179d5b5a2b5f',\n",
       " '0xe744f5e2edfdcb9fdb43b288ecb8b21c8487e888',\n",
       " '0x235c74836bf329a8c4172af9d07173f38026a49c']"
      ]
     },
     "execution_count": 3,
     "metadata": {},
     "output_type": "execute_result"
    }
   ],
   "source": [
    "most_liquid_pool_addrs = list(\n",
    "    map(lambda x: x[\"id\"], most_liquid_pool_ids[\"data\"][\"pools\"])\n",
    ")\n",
    "most_liquid_pool_addrs"
   ]
  },
  {
   "cell_type": "code",
   "execution_count": 4,
   "metadata": {},
   "outputs": [
    {
     "name": "stdout",
     "output_type": "stream",
     "text": [
      "{'pool': {'feeTier': '3000',\n",
      "          'liquidity': '397207105940493915986914707343',\n",
      "          'sqrtPrice': '61395992977184499289169498658',\n",
      "          'tick': '-5100',\n",
      "          'token0': {'decimals': '18',\n",
      "                     'id': '0x293b0cd0991db07c8529febb01bc7d052315c5ab',\n",
      "                     'symbol': 'ITO'},\n",
      "          'token1': {'decimals': '18',\n",
      "                     'id': '0xc02aaa39b223fe8d0a0e5c4f27ead9083c756cc2',\n",
      "                     'symbol': 'WETH'}}}\n",
      "{'pool': {'feeTier': '3000',\n",
      "          'liquidity': '370222054922916232567263130009',\n",
      "          'sqrtPrice': '79872537192210627084928868',\n",
      "          'tick': '-138000',\n",
      "          'token0': {'decimals': '18',\n",
      "                     'id': '0x397cc4dfb5528dc31f73f55eb738ad7aa89651a4',\n",
      "                     'symbol': 'HVC'},\n",
      "          'token1': {'decimals': '18',\n",
      "                     'id': '0xc02aaa39b223fe8d0a0e5c4f27ead9083c756cc2',\n",
      "                     'symbol': 'WETH'}}}\n",
      "{'pool': {'feeTier': '3000',\n",
      "          'liquidity': '361437599700506108538299926970',\n",
      "          'sqrtPrice': '55442678750543395376696043011',\n",
      "          'tick': '-7140',\n",
      "          'token0': {'decimals': '18',\n",
      "                     'id': '0x028ce5ea3298a50c0d8a27b937b1f48cf0d68b56',\n",
      "                     'symbol': 'OTO'},\n",
      "          'token1': {'decimals': '18',\n",
      "                     'id': '0xc02aaa39b223fe8d0a0e5c4f27ead9083c756cc2',\n",
      "                     'symbol': 'WETH'}}}\n",
      "{'pool': {'feeTier': '3000',\n",
      "          'liquidity': '159932759263832461248144686704',\n",
      "          'sqrtPrice': '25317339716438848322217487',\n",
      "          'tick': '-160980',\n",
      "          'token0': {'decimals': '18',\n",
      "                     'id': '0x883a8108e562e19adc92932022c11ca06f4f921a',\n",
      "                     'symbol': 'MASATO'},\n",
      "          'token1': {'decimals': '18',\n",
      "                     'id': '0xc02aaa39b223fe8d0a0e5c4f27ead9083c756cc2',\n",
      "                     'symbol': 'WETH'}}}\n",
      "{'pool': {'feeTier': '3000',\n",
      "          'liquidity': '158106099875351593507670235542',\n",
      "          'sqrtPrice': '27679464853141944727867160',\n",
      "          'tick': '-159196',\n",
      "          'token0': {'decimals': '18',\n",
      "                     'id': '0x53868ac71297768254883b31aadda7328b70fbe6',\n",
      "                     'symbol': '100MD'},\n",
      "          'token1': {'decimals': '18',\n",
      "                     'id': '0x95ad61b0a150d79219dcf64e1e6cc01f0b64c4ce',\n",
      "                     'symbol': 'SHIB'}}}\n",
      "{'pool': {'feeTier': '3000',\n",
      "          'liquidity': '128835647668202536076057937277',\n",
      "          'sqrtPrice': '79228162514264950703963747735',\n",
      "          'tick': '0',\n",
      "          'token0': {'decimals': '18',\n",
      "                     'id': '0x0bfda9a1914dd56313da138143e871c2b7a01e39',\n",
      "                     'symbol': 'STFMG'},\n",
      "          'token1': {'decimals': '18',\n",
      "                     'id': '0xc02aaa39b223fe8d0a0e5c4f27ead9083c756cc2',\n",
      "                     'symbol': 'WETH'}}}\n",
      "{'pool': {'feeTier': '3000',\n",
      "          'liquidity': '115132473743414624390821524616',\n",
      "          'sqrtPrice': '2711496212939625727838304637',\n",
      "          'tick': '-67500',\n",
      "          'token0': {'decimals': '18',\n",
      "                     'id': '0x4daeb4a06f70f4b1a5c329115731fe4b89c0b227',\n",
      "                     'symbol': 'QUA'},\n",
      "          'token1': {'decimals': '18',\n",
      "                     'id': '0x6b175474e89094c44da98b954eedeac495271d0f',\n",
      "                     'symbol': 'DAI'}}}\n",
      "{'pool': {'feeTier': '3000',\n",
      "          'liquidity': '102428942283254036119730691625',\n",
      "          'sqrtPrice': '129309229360466366196901513434837',\n",
      "          'tick': '147959',\n",
      "          'token0': {'decimals': '18',\n",
      "                     'id': '0xc02aaa39b223fe8d0a0e5c4f27ead9083c756cc2',\n",
      "                     'symbol': 'WETH'},\n",
      "          'token1': {'decimals': '18',\n",
      "                     'id': '0xdfd1e167753b1413b0355d6770c7732dadd915b5',\n",
      "                     'symbol': 'BDOG'}}}\n",
      "{'pool': {'feeTier': '500',\n",
      "          'liquidity': '100428287454125868225937960444',\n",
      "          'sqrtPrice': '291909452312114935766340407993375028',\n",
      "          'tick': '302407',\n",
      "          'token0': {'decimals': '18',\n",
      "                     'id': '0xc02aaa39b223fe8d0a0e5c4f27ead9083c756cc2',\n",
      "                     'symbol': 'WETH'},\n",
      "          'token1': {'decimals': '18',\n",
      "                     'id': '0xfb130d93e49dca13264344966a611dc79a456bc5',\n",
      "                     'symbol': 'DOGEGF'}}}\n",
      "{'pool': {'feeTier': '500',\n",
      "          'liquidity': '41019793521174930340943990207',\n",
      "          'sqrtPrice': '3864680890221515215390',\n",
      "          'tick': '-336737',\n",
      "          'token0': {'decimals': '18',\n",
      "                     'id': '0x1492e7db29f5a79f47ea73ed6081f57bc553dec5',\n",
      "                     'symbol': 'ADOGE'},\n",
      "          'token1': {'decimals': '18',\n",
      "                     'id': '0xc02aaa39b223fe8d0a0e5c4f27ead9083c756cc2',\n",
      "                     'symbol': 'WETH'}}}\n"
     ]
    }
   ],
   "source": [
    "async def get_pool_by_id(id: str):\n",
    "    transport = AIOHTTPTransport(url=uniswap_v3_subgraph_url())\n",
    "\n",
    "    async with Client(\n",
    "        transport=transport,\n",
    "        fetch_schema_from_transport=True,\n",
    "    ) as session:\n",
    "        query = gql(\n",
    "            \"\"\"\n",
    "            query getPoolById($pool_addr: ID!) {\n",
    "                pool(id: $pool_addr) {\n",
    "                    tick\n",
    "                    token0 {\n",
    "                        symbol\n",
    "                        id\n",
    "                        decimals\n",
    "                    }\n",
    "                    token1 {\n",
    "                        symbol\n",
    "                        id\n",
    "                        decimals\n",
    "                    }\n",
    "                    feeTier\n",
    "                    sqrtPrice\n",
    "                    liquidity\n",
    "                }\n",
    "            }\n",
    "            \"\"\"\n",
    "        )\n",
    "        params = {\"pool_addr\": id}\n",
    "        result = await session.execute(query, variable_values=params)\n",
    "        pprint(result)\n",
    "\n",
    "\n",
    "for pool_addr in most_liquid_pool_addrs:\n",
    "    await get_pool_by_id(pool_addr)"
   ]
  }
 ],
 "metadata": {
  "kernelspec": {
   "display_name": "Python 3.8.10 ('eth-uniswap-prelim-analysis-3WCyaTCY-py3.8')",
   "language": "python",
   "name": "python3"
  },
  "language_info": {
   "codemirror_mode": {
    "name": "ipython",
    "version": 3
   },
   "file_extension": ".py",
   "mimetype": "text/x-python",
   "name": "python",
   "nbconvert_exporter": "python",
   "pygments_lexer": "ipython3",
   "version": "3.8.10"
  },
  "orig_nbformat": 4,
  "vscode": {
   "interpreter": {
    "hash": "8c4b7809061330062f8c735d3b8d55bf6a8b663fb533c57ef3c9775113b0f4a3"
   }
  }
 },
 "nbformat": 4,
 "nbformat_minor": 2
}
