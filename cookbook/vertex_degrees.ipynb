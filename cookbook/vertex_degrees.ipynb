{
 "cells": [
  {
   "cell_type": "code",
   "execution_count": 1,
   "metadata": {},
   "outputs": [],
   "source": [
    "from collections import defaultdict\n",
    "from pprint import pprint\n",
    "\n",
    "import numpy as np\n",
    "\n",
    "from pyammanalysis.amm_arb import uniswapv3_scraper"
   ]
  },
  {
   "cell_type": "markdown",
   "metadata": {},
   "source": [
    "# Vertex Degrees\n",
    "In graph theory, the degree of a vertex of a graph is the number of edges that are incident to the vertex. In the Uniswap V3 context, the \"degree\" of a token is the number of other tokens it has trading pools with."
   ]
  },
  {
   "cell_type": "code",
   "execution_count": 2,
   "metadata": {},
   "outputs": [],
   "source": [
    "# get top 1000 pairs\n",
    "top_uniswapv3_pairs = uniswapv3_scraper.top_uniswapv3_pairs()[\"pools\"]"
   ]
  },
  {
   "cell_type": "code",
   "execution_count": 3,
   "metadata": {},
   "outputs": [],
   "source": [
    "flattened_tokens_in_pools = np.concatenate(\n",
    "    [[x[\"token0\"], x[\"token1\"]] for x in top_uniswapv3_pairs]\n",
    ")\n",
    "unique, counts = np.unique(flattened_tokens_in_pools, return_counts=True)\n",
    "token_count = dict(zip(unique, counts))"
   ]
  },
  {
   "cell_type": "code",
   "execution_count": 4,
   "metadata": {},
   "outputs": [],
   "source": [
    "def token_count_summary(min_degree: int):\n",
    "    filtered_dict = {k: v for k, v in token_count.items() if v > min_degree}\n",
    "    print(f\"Number of tokens with at least {min_degree} pools: {len(filtered_dict)}\")"
   ]
  },
  {
   "cell_type": "code",
   "execution_count": 5,
   "metadata": {},
   "outputs": [
    {
     "name": "stdout",
     "output_type": "stream",
     "text": [
      "Number of tokens with at least 2 pools: 98\n",
      "Number of tokens with at least 3 pools: 56\n",
      "Number of tokens with at least 4 pools: 34\n",
      "Number of tokens with at least 5 pools: 18\n"
     ]
    }
   ],
   "source": [
    "for i in range(2, 6):\n",
    "    token_count_summary(i)"
   ]
  },
  {
   "cell_type": "code",
   "execution_count": 6,
   "metadata": {},
   "outputs": [],
   "source": [
    "top_uniswapv3_tokens = uniswapv3_scraper.top_uniswapv3_tokens()[\"tokens\"]\n",
    "token_symbols_dict = defaultdict(\n",
    "    lambda: \"oof\", {x[\"id\"]: x[\"symbol\"] for x in top_uniswapv3_tokens}\n",
    ")"
   ]
  },
  {
   "cell_type": "code",
   "execution_count": 7,
   "metadata": {},
   "outputs": [
    {
     "name": "stdout",
     "output_type": "stream",
     "text": [
      "{'1INCH': 5,\n",
      " 'AAVE': 4,\n",
      " 'ACH': 3,\n",
      " 'ADS': 3,\n",
      " 'APE': 5,\n",
      " 'AVINOC': 5,\n",
      " 'BADGER': 3,\n",
      " 'BAT': 3,\n",
      " 'BUSD': 4,\n",
      " 'CEL': 5,\n",
      " 'CGG': 3,\n",
      " 'CHZ': 4,\n",
      " 'COMP': 4,\n",
      " 'CRV': 4,\n",
      " 'CVX': 4,\n",
      " 'DAI': 43,\n",
      " 'DYDX': 4,\n",
      " 'ELON': 3,\n",
      " 'ENS': 5,\n",
      " 'EURT': 5,\n",
      " 'FEI': 10,\n",
      " 'FPIS': 5,\n",
      " 'FRAX': 15,\n",
      " 'FTX Token': 4,\n",
      " 'FUN': 9,\n",
      " 'FXS': 4,\n",
      " 'GALA': 5,\n",
      " 'GF': 3,\n",
      " 'GNO': 3,\n",
      " 'GUSD': 3,\n",
      " 'HDRN': 3,\n",
      " 'HEX': 10,\n",
      " 'HOP': 3,\n",
      " 'HOT': 3,\n",
      " 'ICHI': 8,\n",
      " 'INST': 3,\n",
      " 'LEASH': 3,\n",
      " 'LINK': 6,\n",
      " 'LOOKS': 5,\n",
      " 'LQTY': 3,\n",
      " 'LRC': 5,\n",
      " 'LUSD': 5,\n",
      " 'LYXe': 3,\n",
      " 'MATIC': 3,\n",
      " 'MIM': 5,\n",
      " 'MKR': 4,\n",
      " 'MM': 4,\n",
      " 'MTA': 3,\n",
      " 'NCR': 3,\n",
      " 'NEXO': 3,\n",
      " 'NII': 4,\n",
      " 'NU': 4,\n",
      " 'OCEAN': 3,\n",
      " 'PAX': 5,\n",
      " 'PDT': 3,\n",
      " 'QNT': 3,\n",
      " 'RAI': 6,\n",
      " 'RAIL': 5,\n",
      " 'RARE': 3,\n",
      " 'RBN': 3,\n",
      " 'RNG': 9,\n",
      " 'RPL': 3,\n",
      " 'SAND': 4,\n",
      " 'SHIB': 3,\n",
      " 'SLP': 3,\n",
      " 'SNX': 6,\n",
      " 'SOS': 3,\n",
      " 'SPELL': 3,\n",
      " 'STG': 4,\n",
      " 'Silo': 3,\n",
      " 'TONCOIN': 4,\n",
      " 'TRIBE': 4,\n",
      " 'TRU': 3,\n",
      " 'TUSD': 3,\n",
      " 'UNI': 7,\n",
      " 'UOS': 3,\n",
      " 'USDC': 198,\n",
      " 'USDT': 96,\n",
      " 'UST': 4,\n",
      " 'WBTC': 32,\n",
      " 'WETH': 590,\n",
      " 'WRLD': 3,\n",
      " 'XMT': 3,\n",
      " 'XSGD': 4,\n",
      " 'XYO': 6,\n",
      " 'YFI': 3,\n",
      " 'ZENIQ': 3,\n",
      " 'ZRX': 4,\n",
      " 'agEUR': 5,\n",
      " 'oof': 6,\n",
      " 'renBTC': 5,\n",
      " 'renZEC': 3,\n",
      " 'sETH2': 3,\n",
      " 'sUSD': 4,\n",
      " 'wNXM': 3}\n"
     ]
    }
   ],
   "source": [
    "pprint({token_symbols_dict[k]: v for k, v in token_count.items() if v >= 3})"
   ]
  },
  {
   "cell_type": "code",
   "execution_count": 8,
   "metadata": {},
   "outputs": [
    {
     "name": "stderr",
     "output_type": "stream",
     "text": [
      "C:\\Users\\user\\Documents\\GitHub\\eth-uniswap-prelim-analysis\\pyammanalysis\\amm_arb\\uniswapv3_scraper.py:95: SettingWithCopyWarning: \n",
      "A value is trying to be set on a copy of a slice from a DataFrame\n",
      "\n",
      "See the caveats in the documentation: https://pandas.pydata.org/pandas-docs/stable/user_guide/indexing.html#returning-a-view-versus-a-copy\n",
      "  df[token1][token0] = pool[\"token0Price\"]\n",
      "C:\\Users\\user\\Documents\\GitHub\\eth-uniswap-prelim-analysis\\pyammanalysis\\amm_arb\\uniswapv3_scraper.py:94: SettingWithCopyWarning: \n",
      "A value is trying to be set on a copy of a slice from a DataFrame\n",
      "\n",
      "See the caveats in the documentation: https://pandas.pydata.org/pandas-docs/stable/user_guide/indexing.html#returning-a-view-versus-a-copy\n",
      "  df[token0][token1] = pool[\"token1Price\"]\n"
     ]
    }
   ],
   "source": [
    "adjacency_matrix = uniswapv3_scraper.create_adj_matrix()"
   ]
  },
  {
   "cell_type": "code",
   "execution_count": 9,
   "metadata": {},
   "outputs": [
    {
     "data": {
      "text/html": [
       "<div>\n",
       "<style scoped>\n",
       "    .dataframe tbody tr th:only-of-type {\n",
       "        vertical-align: middle;\n",
       "    }\n",
       "\n",
       "    .dataframe tbody tr th {\n",
       "        vertical-align: top;\n",
       "    }\n",
       "\n",
       "    .dataframe thead th {\n",
       "        text-align: right;\n",
       "    }\n",
       "</style>\n",
       "<table border=\"1\" class=\"dataframe\">\n",
       "  <thead>\n",
       "    <tr style=\"text-align: right;\">\n",
       "      <th></th>\n",
       "      <th>UMIIE</th>\n",
       "      <th>USDC</th>\n",
       "      <th>WETH</th>\n",
       "      <th>DAI</th>\n",
       "      <th>USDT</th>\n",
       "    </tr>\n",
       "  </thead>\n",
       "  <tbody>\n",
       "    <tr>\n",
       "      <th>UMIIE</th>\n",
       "      <td>NaN</td>\n",
       "      <td>NaN</td>\n",
       "      <td>NaN</td>\n",
       "      <td>NaN</td>\n",
       "      <td>NaN</td>\n",
       "    </tr>\n",
       "    <tr>\n",
       "      <th>USDC</th>\n",
       "      <td>NaN</td>\n",
       "      <td>NaN</td>\n",
       "      <td>1038.933452777777813941234861109243</td>\n",
       "      <td>1.000058448562621628825922393732933</td>\n",
       "      <td>0.9900997650809679204247448292982965</td>\n",
       "    </tr>\n",
       "    <tr>\n",
       "      <th>WETH</th>\n",
       "      <td>NaN</td>\n",
       "      <td>0.0009625255566911604042317227607164905</td>\n",
       "      <td>NaN</td>\n",
       "      <td>0.0009593796933468148858623534482142449</td>\n",
       "      <td>0.0009796750078125919103282044561790814</td>\n",
       "    </tr>\n",
       "    <tr>\n",
       "      <th>DAI</th>\n",
       "      <td>NaN</td>\n",
       "      <td>0.9999415548534131813840217186540886</td>\n",
       "      <td>1042.340177653208790878021197493865</td>\n",
       "      <td>NaN</td>\n",
       "      <td>0.9986783222188395386421331954057279</td>\n",
       "    </tr>\n",
       "    <tr>\n",
       "      <th>USDT</th>\n",
       "      <td>NaN</td>\n",
       "      <td>1.009999229641492201288760108310844</td>\n",
       "      <td>1020.74666805351043832972699856535</td>\n",
       "      <td>1.001323426925122385123872194033657</td>\n",
       "      <td>NaN</td>\n",
       "    </tr>\n",
       "  </tbody>\n",
       "</table>\n",
       "</div>"
      ],
      "text/plain": [
       "       UMIIE                                     USDC  \\\n",
       "UMIIE    NaN                                      NaN   \n",
       "USDC     NaN                                      NaN   \n",
       "WETH     NaN  0.0009625255566911604042317227607164905   \n",
       "DAI      NaN     0.9999415548534131813840217186540886   \n",
       "USDT     NaN      1.009999229641492201288760108310844   \n",
       "\n",
       "                                      WETH  \\\n",
       "UMIIE                                  NaN   \n",
       "USDC   1038.933452777777813941234861109243   \n",
       "WETH                                   NaN   \n",
       "DAI    1042.340177653208790878021197493865   \n",
       "USDT    1020.74666805351043832972699856535   \n",
       "\n",
       "                                           DAI  \\\n",
       "UMIIE                                      NaN   \n",
       "USDC       1.000058448562621628825922393732933   \n",
       "WETH   0.0009593796933468148858623534482142449   \n",
       "DAI                                        NaN   \n",
       "USDT       1.001323426925122385123872194033657   \n",
       "\n",
       "                                          USDT  \n",
       "UMIIE                                      NaN  \n",
       "USDC      0.9900997650809679204247448292982965  \n",
       "WETH   0.0009796750078125919103282044561790814  \n",
       "DAI       0.9986783222188395386421331954057279  \n",
       "USDT                                       NaN  "
      ]
     },
     "execution_count": 9,
     "metadata": {},
     "output_type": "execute_result"
    }
   ],
   "source": [
    "adjacency_matrix.iloc[:5, :5]"
   ]
  }
 ],
 "metadata": {
  "kernelspec": {
   "display_name": "Python 3.8.10 ('eth-uniswap-prelim-analysis-3WCyaTCY-py3.8')",
   "language": "python",
   "name": "python3"
  },
  "language_info": {
   "codemirror_mode": {
    "name": "ipython",
    "version": 3
   },
   "file_extension": ".py",
   "mimetype": "text/x-python",
   "name": "python",
   "nbconvert_exporter": "python",
   "pygments_lexer": "ipython3",
   "version": "3.8.10"
  },
  "orig_nbformat": 4,
  "vscode": {
   "interpreter": {
    "hash": "8c4b7809061330062f8c735d3b8d55bf6a8b663fb533c57ef3c9775113b0f4a3"
   }
  }
 },
 "nbformat": 4,
 "nbformat_minor": 2
}
