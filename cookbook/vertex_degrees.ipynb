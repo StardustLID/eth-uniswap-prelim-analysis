{
 "cells": [
  {
   "cell_type": "code",
   "execution_count": 1,
   "metadata": {},
   "outputs": [],
   "source": [
    "from collections import defaultdict\n",
    "from pprint import pprint\n",
    "\n",
    "import numpy as np\n",
    "\n",
    "from pyammanalysis.amm_arb import uniswapv3_scraper"
   ]
  },
  {
   "cell_type": "markdown",
   "metadata": {},
   "source": [
    "# Vertex Degrees\n",
    "In graph theory, the degree of a vertex of a graph is the number of edges that are incident to the vertex. In the Uniswap V3 context, the \"degree\" of a token is the number of other tokens it has trading pools with."
   ]
  },
  {
   "cell_type": "code",
   "execution_count": 2,
   "metadata": {},
   "outputs": [],
   "source": [
    "# get top 1000 pairs\n",
    "top_uniswapv3_pairs = uniswapv3_scraper.top_uniswapv3_pairs()[\"pools\"]"
   ]
  },
  {
   "cell_type": "code",
   "execution_count": 3,
   "metadata": {},
   "outputs": [],
   "source": [
    "flattened_tokens_in_pools = np.concatenate(\n",
    "    [[x[\"token0\"], x[\"token1\"]] for x in top_uniswapv3_pairs]\n",
    ")\n",
    "unique, counts = np.unique(flattened_tokens_in_pools, return_counts=True)\n",
    "token_count = dict(zip(unique, counts))"
   ]
  },
  {
   "cell_type": "code",
   "execution_count": 4,
   "metadata": {},
   "outputs": [],
   "source": [
    "def token_count_summary(min_degree: int):\n",
    "    filtered_dict = {k: v for k, v in token_count.items() if v > min_degree}\n",
    "    print(f\"Number of tokens with at least {min_degree} pools: {len(filtered_dict)}\")"
   ]
  },
  {
   "cell_type": "code",
   "execution_count": 5,
   "metadata": {},
   "outputs": [
    {
     "name": "stdout",
     "output_type": "stream",
     "text": [
      "Number of tokens with at least 2 pools: 98\n",
      "Number of tokens with at least 3 pools: 55\n",
      "Number of tokens with at least 4 pools: 34\n",
      "Number of tokens with at least 5 pools: 18\n"
     ]
    }
   ],
   "source": [
    "for i in range(2, 6):\n",
    "    token_count_summary(i)"
   ]
  },
  {
   "cell_type": "code",
   "execution_count": 6,
   "metadata": {},
   "outputs": [],
   "source": [
    "top_uniswapv3_tokens = uniswapv3_scraper.top_uniswapv3_tokens()[\"tokens\"]\n",
    "token_symbols_dict = defaultdict(\n",
    "    lambda: \"oof\", {x[\"id\"]: x[\"symbol\"] for x in top_uniswapv3_tokens}\n",
    ")"
   ]
  },
  {
   "cell_type": "code",
   "execution_count": 7,
   "metadata": {},
   "outputs": [
    {
     "name": "stdout",
     "output_type": "stream",
     "text": [
      "{'1INCH': 5,\n",
      " 'AAVE': 4,\n",
      " 'ACH': 3,\n",
      " 'ADS': 3,\n",
      " 'APE': 5,\n",
      " 'AVINOC': 5,\n",
      " 'BADGER': 3,\n",
      " 'BAT': 3,\n",
      " 'BUSD': 4,\n",
      " 'CEL': 5,\n",
      " 'CGG': 3,\n",
      " 'CHZ': 3,\n",
      " 'COMP': 4,\n",
      " 'CRV': 4,\n",
      " 'CVX': 4,\n",
      " 'DAI': 44,\n",
      " 'DYDX': 4,\n",
      " 'ELON': 3,\n",
      " 'ENS': 5,\n",
      " 'EURT': 5,\n",
      " 'FEI': 10,\n",
      " 'FPIS': 5,\n",
      " 'FRAX': 15,\n",
      " 'FTX Token': 4,\n",
      " 'FUN': 9,\n",
      " 'FXS': 4,\n",
      " 'GALA': 5,\n",
      " 'GF': 3,\n",
      " 'GNO': 3,\n",
      " 'GUSD': 3,\n",
      " 'HDRN': 3,\n",
      " 'HEX': 10,\n",
      " 'HOP': 3,\n",
      " 'HOT': 3,\n",
      " 'ICHI': 8,\n",
      " 'INST': 3,\n",
      " 'LEASH': 3,\n",
      " 'LINK': 6,\n",
      " 'LOOKS': 5,\n",
      " 'LQTY': 3,\n",
      " 'LRC': 5,\n",
      " 'LUSD': 5,\n",
      " 'LYXe': 3,\n",
      " 'MATIC': 3,\n",
      " 'MIM': 5,\n",
      " 'MKR': 4,\n",
      " 'MM': 4,\n",
      " 'MTA': 3,\n",
      " 'NCR': 3,\n",
      " 'NEXO': 3,\n",
      " 'NII': 4,\n",
      " 'NU': 4,\n",
      " 'OCEAN': 3,\n",
      " 'PAX': 5,\n",
      " 'PDT': 3,\n",
      " 'QNT': 3,\n",
      " 'RAI': 6,\n",
      " 'RAIL': 5,\n",
      " 'RARE': 3,\n",
      " 'RBN': 3,\n",
      " 'RNG': 9,\n",
      " 'RPL': 3,\n",
      " 'SAND': 4,\n",
      " 'SHIB': 3,\n",
      " 'SLP': 3,\n",
      " 'SNX': 6,\n",
      " 'SOS': 3,\n",
      " 'SPELL': 3,\n",
      " 'STG': 4,\n",
      " 'Silo': 3,\n",
      " 'TONCOIN': 4,\n",
      " 'TRIBE': 4,\n",
      " 'TRU': 3,\n",
      " 'TUSD': 3,\n",
      " 'UNI': 7,\n",
      " 'UOS': 3,\n",
      " 'USDC': 197,\n",
      " 'USDT': 94,\n",
      " 'UST': 4,\n",
      " 'WBTC': 33,\n",
      " 'WETH': 592,\n",
      " 'WRLD': 3,\n",
      " 'XMT': 3,\n",
      " 'XSGD': 4,\n",
      " 'XYO': 6,\n",
      " 'YFI': 3,\n",
      " 'ZENIQ': 3,\n",
      " 'ZRX': 4,\n",
      " 'agEUR': 5,\n",
      " 'oof': 6,\n",
      " 'renBTC': 5,\n",
      " 'renZEC': 3,\n",
      " 'sETH2': 3,\n",
      " 'sUSD': 4,\n",
      " 'wNXM': 3}\n"
     ]
    }
   ],
   "source": [
    "pprint({token_symbols_dict[k]: v for k, v in token_count.items() if v >= 3})"
   ]
  }
 ],
 "metadata": {
  "kernelspec": {
   "display_name": "Python 3.8.10 ('eth-uniswap-prelim-analysis-3WCyaTCY-py3.8')",
   "language": "python",
   "name": "python3"
  },
  "language_info": {
   "codemirror_mode": {
    "name": "ipython",
    "version": 3
   },
   "file_extension": ".py",
   "mimetype": "text/x-python",
   "name": "python",
   "nbconvert_exporter": "python",
   "pygments_lexer": "ipython3",
   "version": "3.8.10"
  },
  "orig_nbformat": 4,
  "vscode": {
   "interpreter": {
    "hash": "8c4b7809061330062f8c735d3b8d55bf6a8b663fb533c57ef3c9775113b0f4a3"
   }
  }
 },
 "nbformat": 4,
 "nbformat_minor": 2
}
