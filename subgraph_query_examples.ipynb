{
 "cells": [
  {
   "cell_type": "markdown",
   "metadata": {},
   "source": [
    "# Uniswap V3 Subgraph Query Examples\n",
    "Reference: https://docs.uniswap.org/sdk/subgraph/subgraph-examples\n",
    "\n",
    "This notebook illustrates two styles of querying Uniswap V3's subgraph:\n",
    "1. Sending raw HTTP requests via [`requests`](https://requests.readthedocs.io)\n",
    "2. Wrapping requests by [`gql`](https://gql.readthedocs.io/)"
   ]
  },
  {
   "cell_type": "code",
   "execution_count": null,
   "metadata": {},
   "outputs": [],
   "source": [
    "from pprint import pprint\n",
    "from graphql import run_query"
   ]
  },
  {
   "cell_type": "code",
   "execution_count": null,
   "metadata": {},
   "outputs": [],
   "source": [
    "uniswap_v3_subgraph_url = \"https://api.thegraph.com/subgraphs/name/uniswap/uniswap-v3\""
   ]
  },
  {
   "cell_type": "markdown",
   "metadata": {},
   "source": [
    "## Global Data\n",
    "Global data refers to data points about the Uniswap v3 protocol as a whole. Some examples of global data points are total value locked in the protocol, total pools deployed, or total transaction counts. Thus, to query global data you must pass in the Uniswap V3 Factory address `0x1F98431c8aD98523631AE4a59f267346ea31F984` and select the desired fields. Reference the full [factory schema](https://github.com/Uniswap/v3-subgraph/blob/main/schema.graphql#L1) to see all possible fields."
   ]
  },
  {
   "cell_type": "markdown",
   "metadata": {},
   "source": [
    "### Current Global Data\n",
    "\n",
    "An example querying total pool count, transaction count, and total volume in USD and ETH:"
   ]
  },
  {
   "cell_type": "code",
   "execution_count": null,
   "metadata": {},
   "outputs": [],
   "source": [
    "current_global_data_query = \"\"\"\n",
    "{\n",
    "  factory(id: \"0x1F98431c8aD98523631AE4a59f267346ea31F984\" ) {\n",
    "    poolCount\n",
    "    txCount\n",
    "    totalVolumeUSD\n",
    "    totalVolumeETH\n",
    "  }\n",
    "}\n",
    "\"\"\"\n",
    "\n",
    "current_global_data = run_query(uniswap_v3_subgraph_url, current_global_data_query)\n",
    "pprint(current_global_data)"
   ]
  },
  {
   "cell_type": "markdown",
   "metadata": {},
   "source": [
    "### Historical Global Data\n",
    "You can also query historical data by specifying a block number."
   ]
  },
  {
   "cell_type": "code",
   "execution_count": null,
   "metadata": {},
   "outputs": [],
   "source": [
    "historical_global_data_query = \"\"\"\n",
    "{\n",
    "  factory(id: \"0x1F98431c8aD98523631AE4a59f267346ea31F984\", block: {number: 13380584}){\n",
    "    poolCount\n",
    "    txCount\n",
    "    totalVolumeUSD\n",
    "    totalVolumeETH\n",
    "  }\n",
    "}\n",
    "\"\"\"\n",
    "\n",
    "historical_global_data = run_query(uniswap_v3_subgraph_url, historical_global_data_query)\n",
    "pprint(historical_global_data)"
   ]
  },
  {
   "cell_type": "markdown",
   "metadata": {},
   "source": [
    "## Pool Data\n",
    "To get data about a certain pool, pass in the pool address. Reference the full [pool schema](https://github.com/Uniswap/v3-subgraph/blob/main/schema.graphql#L75) and adjust the query fields to retrieve the data points you want.\n",
    "\n",
    "### General Pool Query\n",
    "The query below returns the feeTier, spot price, and liquidity for the ETH-USDC pool."
   ]
  },
  {
   "cell_type": "code",
   "execution_count": null,
   "metadata": {},
   "outputs": [],
   "source": [
    "eth_usdc_pool_data_query = \"\"\"\n",
    "{\n",
    "  pool(id: \"0x8ad599c3a0ff1de082011efddc58f1908eb6e6d8\") {\n",
    "    tick\n",
    "    token0 {\n",
    "      symbol\n",
    "      id\n",
    "      decimals\n",
    "    }\n",
    "    token1 {\n",
    "      symbol\n",
    "      id\n",
    "      decimals\n",
    "    }\n",
    "    feeTier\n",
    "    sqrtPrice\n",
    "    liquidity\n",
    "  }\n",
    "}\n",
    "\"\"\"\n",
    "\n",
    "eth_usdc_pool_data = run_query(uniswap_v3_subgraph_url, eth_usdc_pool_data_query)\n",
    "pprint(eth_usdc_pool_data)"
   ]
  },
  {
   "cell_type": "markdown",
   "metadata": {},
   "source": [
    "### All Possible Pools\n",
    "The maxiumum items you can query at once is 1000. Thus to get all possible pools, you can interate using the skip variable. To get pools beyond the first 1000 you can also set the skip as shown below.\n",
    "\n",
    "### Skipping First 1000 Pools\n",
    "This query sets the skip value and returns the first 10 responses after the first 1000."
   ]
  },
  {
   "cell_type": "code",
   "execution_count": null,
   "metadata": {},
   "outputs": [],
   "source": [
    "skip_first_1000_pool_data_query = \"\"\"\n",
    "{\n",
    "  pools(first:10, skip:1000){\n",
    "    id\n",
    "    token0 {\n",
    "      id\n",
    "      symbol\n",
    "    }\n",
    "    token1 {\n",
    "      id\n",
    "      symbol\n",
    "    }\n",
    "  }\n",
    "}\n",
    "\"\"\"\n",
    "\n",
    "skip_first_1000_pool_data = run_query(uniswap_v3_subgraph_url, skip_first_1000_pool_data_query)\n",
    "pprint(skip_first_1000_pool_data)"
   ]
  },
  {
   "cell_type": "markdown",
   "metadata": {},
   "source": [
    "### Creating a Skip Variable\n",
    "This next query sets a skip variable. In your language and environment of choice you can then iterate through a loop, query to get 1000 pools each time, and continually adjust skip by 1000 until all pool responses are returned.\n",
    "\n",
    "Check out [this example](https://github.com/Uniswap/v3-info/blob/770a05dc1a191cf229432ebc43c1f2ceb3666e3b/src/data/pools/chartData.ts#L14) from our interface for poolDayData that does something similar.\n",
    "\n",
    "Note: This query will not work in the graph explorer and more resembles the structure of a query you'd pass to some graphql middleware like Apollo.\n",
    "\n",
    "```GraphQL\n",
    "query pools( $skip: Int!) {\n",
    "    pools(\n",
    "      first: 1000\n",
    "      skip: $skip\n",
    "      orderDirection: asc\n",
    "    ) {\n",
    "      id\n",
    "      sqrtPrice\n",
    "      token0 {\n",
    "        id\n",
    "      }\n",
    "        token1{\n",
    "      id\n",
    "    }\n",
    "  }\n",
    "}\n",
    "```"
   ]
  },
  {
   "cell_type": "markdown",
   "metadata": {},
   "source": [
    "### Most Liquid Pools\n",
    "Retrieve the top 10 most liquid pools. You can use this similar set up to orderBy other variables like number of swaps or volume."
   ]
  },
  {
   "cell_type": "code",
   "execution_count": null,
   "metadata": {},
   "outputs": [],
   "source": [
    "most_liquid_pools_query = \"\"\"\n",
    "{\n",
    "  pools(first: 10, orderBy: liquidity, orderDirection: desc) {\n",
    "    id\n",
    "  }\n",
    "}\n",
    "\"\"\"\n",
    "\n",
    "most_liquid_pools = run_query(uniswap_v3_subgraph_url, most_liquid_pools_query)\n",
    "pprint(most_liquid_pools)"
   ]
  },
  {
   "cell_type": "markdown",
   "metadata": {},
   "source": [
    "### Pool Daily Aggregated\n",
    "This query returns daily aggregated data for the first 10 days since the given timestamp for the UNI-ETH pool."
   ]
  },
  {
   "cell_type": "code",
   "execution_count": null,
   "metadata": {},
   "outputs": [],
   "source": [
    "pool_daily_aggregated_query = \"\"\"\n",
    "{\n",
    "  poolDayDatas(first: 10, orderBy: date, where: {\n",
    "    pool: \"0x1d42064fc4beb5f8aaf85f4617ae8b3b5b8bd801\",\n",
    "    date_gt: 1633642435\n",
    "  } ) {\n",
    "    date\n",
    "    liquidity\n",
    "    sqrtPrice\n",
    "    token0Price\n",
    "    token1Price\n",
    "    volumeToken0\n",
    "    volumeToken1\n",
    "  }\n",
    "}\n",
    "\"\"\"\n",
    "\n",
    "pool_daily_aggregated = run_query(uniswap_v3_subgraph_url, pool_daily_aggregated_query)\n",
    "pprint(pool_daily_aggregated)"
   ]
  },
  {
   "cell_type": "markdown",
   "metadata": {},
   "source": [
    "## Swap Data\n",
    "### General Swap Data\n",
    "To query data about a particular swap, input the transaction hash + \"#\" + the index in the swaps the transaction array.R This is the reference for the full swap schema.\n",
    "\n",
    "This query fetches data about the sender, receiver, amounts, transaction data, and timestamp for a particular swap."
   ]
  },
  {
   "cell_type": "code",
   "execution_count": null,
   "metadata": {},
   "outputs": [],
   "source": [
    "general_swap_data_query = \"\"\"\n",
    "{\n",
    "  swap(id: \"0x000007e1111cbd97f74cfc6eea2879a5b02020f26960ac06f4af0f9395372b64#66785\") {\n",
    "    sender\n",
    "    recipient\n",
    "    amount0\n",
    "    amount1\n",
    "    transaction {\n",
    "      id\n",
    "      blockNumber\n",
    "      gasUsed\n",
    "      gasPrice\n",
    "    }\n",
    "    timestamp\n",
    "    token0 {\n",
    "      id\n",
    "      symbol\n",
    "    }\n",
    "    token1 {\n",
    "      id\n",
    "      symbol\n",
    "    }\n",
    "  }\n",
    "}\n",
    "\"\"\"\n",
    "\n",
    "general_swap_data = run_query(uniswap_v3_subgraph_url, general_swap_data_query)\n",
    "pprint(general_swap_data)"
   ]
  },
  {
   "cell_type": "markdown",
   "metadata": {},
   "source": [
    "## Recent Swaps Within a Pool\n",
    "You can set the `where` field to filter swap data by pool address. This example fetches data about multiple swaps for the USDC-USDT pool, ordered by timestamp."
   ]
  },
  {
   "cell_type": "code",
   "execution_count": null,
   "metadata": {},
   "outputs": [],
   "source": [
    "usdc_usdt_swaps_query = \"\"\"\n",
    "{\n",
    "  swaps(orderBy: timestamp, orderDirection: desc, where:\n",
    "    { pool: \"0x7858e59e0c01ea06df3af3d20ac7b0003275d4bf\" }\n",
    "  ) {\n",
    "    pool {\n",
    "      token0 {\n",
    "        id\n",
    "        symbol\n",
    "      }\n",
    "      token1 {\n",
    "        id\n",
    "        symbol\n",
    "      }\n",
    "    }\n",
    "    sender\n",
    "    recipient\n",
    "    amount0\n",
    "    amount1\n",
    "  }\n",
    "}\n",
    "\"\"\"\n",
    "\n",
    "usdc_usdt_swaps = run_query(uniswap_v3_subgraph_url, usdc_usdt_swaps_query)\n",
    "pprint(usdc_usdt_swaps)"
   ]
  },
  {
   "cell_type": "markdown",
   "metadata": {},
   "source": [
    "## Token Data\n",
    "Input the the token contract address to fetch token data. Any token that exists in at least one Uniswap V3 pool can be queried. The output will aggregate data across all v3 pools that include the token.\n",
    "\n",
    "### General Token Data\n",
    "This queries the decimals, symbol, name, pool count, and volume in USD for the UNI token. Reference the full [token schema](https://github.com/Uniswap/v3-subgraph/blob/main/schema.graphql#L38) for all possible fields you can query."
   ]
  },
  {
   "cell_type": "code",
   "execution_count": null,
   "metadata": {},
   "outputs": [],
   "source": [
    "general_token_data_query = \"\"\"\n",
    "{\n",
    "  token(id:\"0x1f9840a85d5af5bf1d1762f925bdaddc4201f984\") {\n",
    "    symbol\n",
    "    name\n",
    "    decimals\n",
    "    volumeUSD\n",
    "    poolCount\n",
    "  }\n",
    "}\n",
    "\"\"\"\n",
    "\n",
    "general_token_data = run_query(uniswap_v3_subgraph_url, general_token_data_query)\n",
    "pprint(general_token_data)"
   ]
  },
  {
   "cell_type": "markdown",
   "metadata": {},
   "source": [
    "### Token Daily Aggregated\n",
    "You can fetch aggregate data about a specific token over a 24-hour period. This query gets 10-days of the 24-hour volume data for the UNI token ordered from oldest to newest."
   ]
  },
  {
   "cell_type": "code",
   "execution_count": null,
   "metadata": {},
   "outputs": [],
   "source": [
    "uni_daily_aggregated_query = \"\"\"\n",
    "{\n",
    "  tokenDayDatas(first: 10, where: {token: \"0x1f9840a85d5af5bf1d1762f925bdaddc4201f984\"}, orderBy: date, orderDirection: asc) {\n",
    "    date\n",
    "    token {\n",
    "      id\n",
    "      symbol\n",
    "    }\n",
    "    volumeUSD\n",
    "  }\n",
    "}\n",
    "\"\"\"\n",
    "\n",
    "uni_daily_aggregated = run_query(uniswap_v3_subgraph_url, uni_daily_aggregated_query)\n",
    "pprint(uni_daily_aggregated)"
   ]
  },
  {
   "cell_type": "markdown",
   "metadata": {},
   "source": [
    "### All Tokens\n",
    "Similar to retrieving all pools, you can fetch all tokens by using skip. Note: This query will not work in the graph sandbox and more resembles the structure of a query you'd pass to some graphql middleware like Apollo.\n",
    "\n",
    "```GraphQL\n",
    "query tokens($skip: Int!) {\n",
    "  tokens(first: 1000, skip: $skip) {\n",
    "    id\n",
    "    symbol\n",
    "    name\n",
    "  }\n",
    "}\n",
    "```"
   ]
  },
  {
   "cell_type": "markdown",
   "metadata": {},
   "source": [
    "## Position Data\n",
    "### General Position Data\n",
    "To get data about a specific position, input the NFT tokenId. This queries the collected fees for token0 and token1 and current liquidity for the position with tokedId 3. Reference the full [position schema](https://github.com/Uniswap/v3-subgraph/blob/main/schema.graphql#L192) to see all fields."
   ]
  },
  {
   "cell_type": "code",
   "execution_count": null,
   "metadata": {},
   "outputs": [],
   "source": [
    "general_position_data_query = \"\"\"\n",
    "{\n",
    "  position(id:3) {\n",
    "    id\n",
    "    collectedFeesToken0\n",
    "    collectedFeesToken1\n",
    "    liquidity\n",
    "    token0 {\n",
    "      id\n",
    "      symbol\n",
    "    }\n",
    "    token1\n",
    "    {\n",
    "      id\n",
    "      symbol\n",
    "    }\n",
    "  }\n",
    "}\n",
    "\"\"\"\n",
    "\n",
    "general_position_data = run_query(uniswap_v3_subgraph_url, general_position_data_query)\n",
    "pprint(general_position_data)"
   ]
  }
 ],
 "metadata": {
  "interpreter": {
   "hash": "6a926afa313b26ae1264fdcf81c726a97e69f6ba2ba780f6aa901948710f8d6e"
  },
  "kernelspec": {
   "display_name": "Python 3.8.10 64-bit",
   "language": "python",
   "name": "python3"
  },
  "language_info": {
   "codemirror_mode": {
    "name": "ipython",
    "version": 3
   },
   "file_extension": ".py",
   "mimetype": "text/x-python",
   "name": "python",
   "nbconvert_exporter": "python",
   "pygments_lexer": "ipython3",
   "version": "3.8.10"
  },
  "orig_nbformat": 4
 },
 "nbformat": 4,
 "nbformat_minor": 2
}
