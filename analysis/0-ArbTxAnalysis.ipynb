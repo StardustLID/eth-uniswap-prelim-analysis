{
 "cells": [
  {
   "cell_type": "markdown",
   "metadata": {},
   "source": [
    "# 0 - Arbitrage Transaction Analysis\n",
    "This notebook solely analyzes some given arbitrage transactions on Ethereum. It is independent of the notebook series that starts from 1.\n",
    "\n",
    "See the [log file](arb_tx_data\\0xe976f2ebd70135153e8522c3aaa3c9d489717ef621d69b9e00a9f215d0474918\\log.txt) for the tx. For analysis purpose, swaps are grouped together if they form a cyclic arbitrage."
   ]
  },
  {
   "cell_type": "code",
   "execution_count": null,
   "metadata": {},
   "outputs": [],
   "source": [
    "# Standard Library\n",
    "from pprint import pprint\n",
    "\n",
    "# Local Folder Library\n",
    "from pyammanalysis.amm_arb import graph_arbitrage, uniswapv3_scraper\n",
    "from pyammanalysis.graphql_helper import run_query\n",
    "from pyammanalysis.util import *"
   ]
  },
  {
   "cell_type": "code",
   "execution_count": null,
   "metadata": {},
   "outputs": [],
   "source": [
    "TX_QUERY = \"\"\"\n",
    "{\n",
    "    transaction(id: \"0xe976f2ebd70135153e8522c3aaa3c9d489717ef621d69b9e00a9f215d0474918\") {\n",
    "        blockNumber\n",
    "        timestamp\n",
    "        gasUsed\n",
    "        gasPrice\n",
    "        swaps {\n",
    "            pool {\n",
    "                feeTier\n",
    "            }\n",
    "            token0 {\n",
    "                symbol\n",
    "            }\n",
    "            token1 {\n",
    "                symbol\n",
    "            }\n",
    "        }\n",
    "    }\n",
    "}\n",
    "\"\"\""
   ]
  },
  {
   "cell_type": "code",
   "execution_count": null,
   "metadata": {},
   "outputs": [],
   "source": [
    "arb_tx_result = run_query(UNISWAP_V3_SUBGRAPH_URL, TX_QUERY)[\"data\"][\"transaction\"]\n",
    "pprint(arb_tx_result)"
   ]
  },
  {
   "cell_type": "code",
   "execution_count": null,
   "metadata": {},
   "outputs": [],
   "source": [
    "block_number = int(arb_tx_result[\"blockNumber\"])\n",
    "block_number"
   ]
  },
  {
   "cell_type": "markdown",
   "metadata": {},
   "source": [
    "## Group 5\n",
    "Cyclic arbitrage of 3 pools on Uniswap V2:\n",
    "```\n",
    "// group 5: ETH -> LBT -> 5GS -> ETH, Uniswap V2 => earns ETH\n",
    "Swap 0.078344525103934434 Ether         For 1,754.673155155967912284A LBT       On Uniswap V2\n",
    "Swap 1,754.673155155967912284A LBT      For 6,645.69453576553728198 5GS         On Uniswap V2\n",
    "Swap 6,645.69453576553728198 5GS        For 0.082361461143867988 Ether          On Uniswap V2\n",
    "```"
   ]
  },
  {
   "cell_type": "code",
   "execution_count": null,
   "metadata": {},
   "outputs": [],
   "source": [
    "# TODO: find arb on uni V2"
   ]
  }
 ],
 "metadata": {
  "kernelspec": {
   "display_name": "Python 3.8.10 ('eth-uniswap-prelim-analysis-3WCyaTCY-py3.8')",
   "language": "python",
   "name": "python3"
  },
  "language_info": {
   "codemirror_mode": {
    "name": "ipython",
    "version": 3
   },
   "file_extension": ".py",
   "mimetype": "text/x-python",
   "name": "python",
   "nbconvert_exporter": "python",
   "pygments_lexer": "ipython3",
   "version": "3.8.10"
  },
  "orig_nbformat": 4,
  "vscode": {
   "interpreter": {
    "hash": "8c4b7809061330062f8c735d3b8d55bf6a8b663fb533c57ef3c9775113b0f4a3"
   }
  }
 },
 "nbformat": 4,
 "nbformat_minor": 2
}
