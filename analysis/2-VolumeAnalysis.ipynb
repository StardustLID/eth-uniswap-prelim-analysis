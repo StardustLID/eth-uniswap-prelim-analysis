{
 "cells": [
  {
   "cell_type": "markdown",
   "metadata": {},
   "source": [
    "# 2 - Volume Analysis\n",
    "In this section, we focus on the pools' 24H volume trend. Both time and frequency domain techniques will be used. Hourly volume analysis may be added in the future."
   ]
  },
  {
   "cell_type": "code",
   "execution_count": null,
   "metadata": {},
   "outputs": [],
   "source": [
    "# Standard Library\n",
    "import math\n",
    "import os\n",
    "\n",
    "# Third Party Library\n",
    "import matplotlib.pyplot as plt\n",
    "import numpy as np\n",
    "import pandas as pd\n",
    "from matplotlib.pyplot import MaxNLocator\n",
    "\n",
    "# Local Folder Library\n",
    "from pyammanalysis.util import read_yaml"
   ]
  },
  {
   "cell_type": "code",
   "execution_count": null,
   "metadata": {},
   "outputs": [],
   "source": [
    "# config\n",
    "config = read_yaml(\"../config.yaml\")\n",
    "SUBPLOTS_PER_ROW = config[\"SUBPLOTS_PER_ROW\"]\n",
    "\n",
    "# data folder paths\n",
    "data_folder = \"data\"\n",
    "pool_day_data_folder = os.path.join(data_folder, \"pool\", \"day\")\n",
    "\n",
    "pools_df = pd.read_csv(os.path.join(data_folder, \"pools_df.csv\"))\n",
    "pool_names = pools_df[\"name\"]\n",
    "\n",
    "df = pd.read_csv(\n",
    "    os.path.join(pool_day_data_folder, \"poolDay.csv\"), parse_dates=[\"date\"]\n",
    ")"
   ]
  },
  {
   "cell_type": "markdown",
   "metadata": {},
   "source": [
    "## Time Domain\n",
    "### Time Trend"
   ]
  },
  {
   "cell_type": "code",
   "execution_count": null,
   "metadata": {},
   "outputs": [],
   "source": [
    "plt.figure(figsize=(19, 9))\n",
    "for pool_name in pool_names:\n",
    "    plt.plot(df[\"date\"], df[pool_name + \"_volumeUSD\"])\n",
    "plt.title(\"24H Volume over Time\")\n",
    "plt.xlabel(\"date\")\n",
    "plt.ylabel(\"24H Volume (in USD)\")\n",
    "plt.legend(pool_names, loc=\"upper left\")\n",
    "plt.show()"
   ]
  },
  {
   "cell_type": "code",
   "execution_count": null,
   "metadata": {},
   "outputs": [],
   "source": [
    "# find the days with the greatest 24H volumes\n",
    "# df.sort_values(by=\"volumeUSD\", ascending=False)[:10]"
   ]
  },
  {
   "cell_type": "code",
   "execution_count": null,
   "metadata": {},
   "outputs": [],
   "source": [
    "# # for reference only, no use now\n",
    "# fig, ax = plt.subplots(figsize=(15, 1))\n",
    "# sns.boxplot(data=df, x=\"volumeUSD\")\n",
    "# plt.xlim(0, 2e8)\n",
    "# plt.show()"
   ]
  },
  {
   "cell_type": "markdown",
   "metadata": {},
   "source": [
    "### Histogram\n",
    "Observe the distribution of the prices."
   ]
  },
  {
   "cell_type": "code",
   "execution_count": null,
   "metadata": {},
   "outputs": [],
   "source": [
    "fig = plt.figure(figsize=(24, 16))\n",
    "axes = fig.subplots(4, SUBPLOTS_PER_ROW)\n",
    "for i, pool_name in enumerate(pool_names):\n",
    "    volumeUSD_series = df[pool_name + \"_volumeUSD\"]\n",
    "    ax = axes[math.floor(i / SUBPLOTS_PER_ROW), i % SUBPLOTS_PER_ROW]\n",
    "    ax.title.set_text(pool_name)\n",
    "    ax.hist(volumeUSD_series, bins=100, range=(0, volumeUSD_series.quantile(0.99)))\n",
    "\n",
    "    # force y-axis ticks to use integers\n",
    "    ax.get_yaxis().set_major_locator(MaxNLocator(integer=True))\n",
    "\n",
    "    # highlight 25%-75% percentile\n",
    "    lq = volumeUSD_series.quantile(0.25)\n",
    "    uq = volumeUSD_series.quantile(0.75)\n",
    "    ax.axvspan(lq, uq, color=\"green\", alpha=0.25)\n",
    "\n",
    "fig.suptitle(\"24H Volume Distributions\")\n",
    "fig.supxlabel(\"24H Volume (in USD)\")\n",
    "plt.show()"
   ]
  },
  {
   "cell_type": "code",
   "execution_count": null,
   "metadata": {},
   "outputs": [],
   "source": [
    "pool_df = df.drop(columns=\"timestamp\")\n",
    "# note: df.std() is normalized by N-1\n",
    "pool_metrics_df = pd.DataFrame(\n",
    "    data=[pool_df.mean(), pool_df.std()], index=[\"mean\", \"stdev\"]\n",
    ")\n",
    "pool_metrics_df"
   ]
  },
  {
   "cell_type": "code",
   "execution_count": null,
   "metadata": {},
   "outputs": [],
   "source": [
    "# # for reference only, no use now\n",
    "# df[\"volumeUSD\"].plot.kde()\n",
    "# plt.title(pool_name + \" 24H Volume KDE\")\n",
    "# plt.xlim(0, 2e8)\n",
    "# plt.show()"
   ]
  },
  {
   "cell_type": "code",
   "execution_count": null,
   "metadata": {},
   "outputs": [],
   "source": [
    "# TODO: time series / autocorelation\n",
    "# TODO: aggregate weekly and daily patterns and look for anomalies (e.g. Friday)\n",
    "# TODO: ask for calculation of Greeks (Detla, Vega...)"
   ]
  },
  {
   "cell_type": "markdown",
   "metadata": {},
   "source": [
    "## Frequency Domain\n",
    "### Fast Fourier Transform (FFT)\n",
    "FFT computes the frequency content of the prices as signals."
   ]
  },
  {
   "cell_type": "code",
   "execution_count": null,
   "metadata": {},
   "outputs": [],
   "source": [
    "fig = plt.figure(figsize=(24, 16))\n",
    "axes = fig.subplots(4, SUBPLOTS_PER_ROW)\n",
    "for i, pool_name in enumerate(pool_names):\n",
    "    date_volume_df = df[[\"date\", pool_name + \"_volumeUSD\"]].dropna()\n",
    "    volumeUSD_series = date_volume_df[pool_name + \"_volumeUSD\"]\n",
    "\n",
    "    # reference for zero-mean signal:\n",
    "    # https://dsp.stackexchange.com/questions/46950/removing-mean-from-signal-massively-distorts-fft\n",
    "    # only keep those with freq STRICTLY > 0\n",
    "    f_max = math.ceil(date_volume_df.shape[0] / 2)\n",
    "    Y = abs(np.fft.fft(volumeUSD_series - volumeUSD_series.mean()))[1:f_max]\n",
    "    freq = np.fft.fftfreq(date_volume_df.shape[0], 1)[1:f_max]\n",
    "\n",
    "    ax = axes[math.floor(i / SUBPLOTS_PER_ROW), i % SUBPLOTS_PER_ROW]\n",
    "    ax.title.set_text(pool_name)\n",
    "    ax.plot(freq, Y)\n",
    "\n",
    "fig.suptitle(\"24H Volume FFT\")\n",
    "fig.supxlabel(\"freq (in /day)\")\n",
    "fig.supylabel(\"24H Volume (in USD)\")\n",
    "plt.show()"
   ]
  },
  {
   "cell_type": "code",
   "execution_count": null,
   "metadata": {},
   "outputs": [],
   "source": [
    "fig = plt.figure(figsize=(24, 16))\n",
    "axes = fig.subplots(4, SUBPLOTS_PER_ROW)\n",
    "for i, pool_name in enumerate(pool_names):\n",
    "    date_volume_df = df[[\"date\", pool_name + \"_volumeUSD\"]].dropna()\n",
    "    volumeUSD_series = date_volume_df[pool_name + \"_volumeUSD\"]\n",
    "\n",
    "    # reference for zero-mean signal:\n",
    "    # https://dsp.stackexchange.com/questions/46950/removing-mean-from-signal-massively-distorts-fft\n",
    "    # only keep those with freq STRICTLY > 0\n",
    "    f_max = math.ceil(date_volume_df.shape[0] / 2)\n",
    "    Y = abs(np.fft.fft(volumeUSD_series - volumeUSD_series.mean()))[1:f_max]\n",
    "    freq = np.fft.fftfreq(date_volume_df.shape[0], 1)[1:f_max]\n",
    "\n",
    "    # c.f. power spectral density in signal processing\n",
    "    spectrum = Y.real * Y.real + Y.imag * Y.imag\n",
    "\n",
    "    ax = axes[math.floor(i / SUBPLOTS_PER_ROW), i % SUBPLOTS_PER_ROW]\n",
    "    ax.title.set_text(pool_name)\n",
    "    ax.set_xlim(left=freq[1], right=freq[-1])\n",
    "\n",
    "    # Note: this is possible because FFT must give positive values,\n",
    "    # so that their logarithms always exist.\n",
    "    # plot log10(spectrum) against frequency\n",
    "    ax.semilogy(freq, spectrum)\n",
    "\n",
    "fig.suptitle(\"Semilog Plot of 24H Volume FFT\")\n",
    "fig.supxlabel(\"freq (in /day)\")\n",
    "fig.supylabel(\"Magnitude\")\n",
    "plt.show()"
   ]
  }
 ],
 "metadata": {
  "kernelspec": {
   "display_name": "Python 3.8.10 ('eth-uniswap-prelim-analysis-3WCyaTCY-py3.8')",
   "language": "python",
   "name": "python3"
  },
  "language_info": {
   "codemirror_mode": {
    "name": "ipython",
    "version": 3
   },
   "file_extension": ".py",
   "mimetype": "text/x-python",
   "name": "python",
   "nbconvert_exporter": "python",
   "pygments_lexer": "ipython3",
   "version": "3.8.10"
  },
  "orig_nbformat": 4,
  "vscode": {
   "interpreter": {
    "hash": "8c4b7809061330062f8c735d3b8d55bf6a8b663fb533c57ef3c9775113b0f4a3"
   }
  }
 },
 "nbformat": 4,
 "nbformat_minor": 2
}
