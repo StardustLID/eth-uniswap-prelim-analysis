{
 "cells": [
  {
   "cell_type": "code",
   "execution_count": 1,
   "metadata": {},
   "outputs": [],
   "source": [
    "# GraphQL and I/O related\n",
    "from pprint import pprint\n",
    "from gql import gql, Client\n",
    "from gql.transport.aiohttp import AIOHTTPTransport\n",
    "import json\n",
    "\n",
    "# statistical analysis\n",
    "import pandas as pd\n",
    "# from pandas import Timestamp\n",
    "import numpy as np\n",
    "import matplotlib.pyplot as plt\n",
    "import datetime as dt"
   ]
  },
  {
   "cell_type": "code",
   "execution_count": 2,
   "metadata": {},
   "outputs": [],
   "source": [
    "uniswap_v3_subgraph_url = \"https://api.thegraph.com/subgraphs/name/uniswap/uniswap-v3\""
   ]
  },
  {
   "cell_type": "markdown",
   "metadata": {},
   "source": [
    "### Replicating the Info Page\n",
    "We perform the following two queries over 1000 days (at most):\n",
    "1. TVL\n",
    "2. 24H Volume"
   ]
  },
  {
   "cell_type": "code",
   "execution_count": 3,
   "metadata": {},
   "outputs": [],
   "source": [
    "POOL_CHART = gql(\n",
    "    \"\"\"\n",
    "    query poolDayDatas($startTime: Int!, $skip: Int!, $address: String!) {\n",
    "        poolDayDatas(\n",
    "            first: 1000\n",
    "            skip: $skip\n",
    "            where: { pool: $address, date_gt: $startTime }\n",
    "            orderBy: date\n",
    "            orderDirection: asc\n",
    "            subgraphError: allow\n",
    "        ) {\n",
    "            date\n",
    "            volumeUSD\n",
    "            tvlUSD\n",
    "            feesUSD\n",
    "        }\n",
    "    }\n",
    "    \"\"\"\n",
    ")"
   ]
  },
  {
   "cell_type": "code",
   "execution_count": 4,
   "metadata": {},
   "outputs": [],
   "source": [
    "# ref: https://github.com/Uniswap/v3-info/blob/770a05dc1a191cf229432ebc43c1f2ceb3666e3b/src/data/pools/chartData.ts#L14\n",
    "async def fetch_pool_chart_data(address: str, verbose: bool=False):\n",
    "    START_TIMESTAMP = 1619170975 # GMT: Friday, April 23, 2021 9:42:55 AM\n",
    "    # END_TIMESTAMP = int(time.time()) # current timestamp\n",
    "\n",
    "    error = False\n",
    "    skip = 0\n",
    "    all_found = False\n",
    "    result = {\"poolDayDatas\": []}\n",
    "\n",
    "    transport = AIOHTTPTransport(url=uniswap_v3_subgraph_url)\n",
    "\n",
    "    async with Client(\n",
    "        transport=transport,\n",
    "        fetch_schema_from_transport=True,\n",
    "    ) as session:\n",
    "        params = {\n",
    "            \"address\": address,\n",
    "            \"startTime\": START_TIMESTAMP,\n",
    "            \"skip\": skip\n",
    "        }\n",
    "        try:\n",
    "            while not all_found:\n",
    "                temp = await session.execute(POOL_CHART, variable_values=params)\n",
    "                skip += 1000\n",
    "                if len(temp[\"poolDayDatas\"]) < 1000 or error:\n",
    "                    all_found = True\n",
    "                if temp:\n",
    "                    result[\"poolDayDatas\"] = result[\"poolDayDatas\"] + temp[\"poolDayDatas\"] # concat the lists\n",
    "        except:\n",
    "            error = True\n",
    "            print(\"Error!\")\n",
    "\n",
    "    if verbose:\n",
    "        pprint(result)\n",
    "\n",
    "    poolDayDatas = json.dumps(result, indent=4)\n",
    "    with open('poolDayDatas.json', 'w') as file:\n",
    "        file.write(poolDayDatas)"
   ]
  },
  {
   "cell_type": "code",
   "execution_count": 5,
   "metadata": {},
   "outputs": [],
   "source": [
    "pool_addr = \"0x5777d92f208679db4b9778590fa3cab3ac9e2168\" # DAI/USDC\n",
    "# await fetch_pool_chart_data(pool_addr, verbose=True)"
   ]
  },
  {
   "cell_type": "code",
   "execution_count": 6,
   "metadata": {},
   "outputs": [
    {
     "data": {
      "text/html": [
       "<div>\n",
       "<style scoped>\n",
       "    .dataframe tbody tr th:only-of-type {\n",
       "        vertical-align: middle;\n",
       "    }\n",
       "\n",
       "    .dataframe tbody tr th {\n",
       "        vertical-align: top;\n",
       "    }\n",
       "\n",
       "    .dataframe thead th {\n",
       "        text-align: right;\n",
       "    }\n",
       "</style>\n",
       "<table border=\"1\" class=\"dataframe\">\n",
       "  <thead>\n",
       "    <tr style=\"text-align: right;\">\n",
       "      <th></th>\n",
       "      <th>date</th>\n",
       "      <th>volumeUSD</th>\n",
       "      <th>tvlUSD</th>\n",
       "    </tr>\n",
       "  </thead>\n",
       "  <tbody>\n",
       "    <tr>\n",
       "      <th>0</th>\n",
       "      <td>1636761600</td>\n",
       "      <td>451384.6317736593532386940623125507</td>\n",
       "      <td>196699.286342662913455987</td>\n",
       "    </tr>\n",
       "    <tr>\n",
       "      <th>1</th>\n",
       "      <td>1636848000</td>\n",
       "      <td>304642.996682467277186022285102527</td>\n",
       "      <td>208034.458676277547941412</td>\n",
       "    </tr>\n",
       "    <tr>\n",
       "      <th>2</th>\n",
       "      <td>1636934400</td>\n",
       "      <td>483612.6948624568593532362423753129</td>\n",
       "      <td>208080.951216703931612544</td>\n",
       "    </tr>\n",
       "    <tr>\n",
       "      <th>3</th>\n",
       "      <td>1637020800</td>\n",
       "      <td>4258825.591757019697420176796614061</td>\n",
       "      <td>208506.295394776311376604</td>\n",
       "    </tr>\n",
       "    <tr>\n",
       "      <th>4</th>\n",
       "      <td>1637107200</td>\n",
       "      <td>43315350.56612111798324184497370248</td>\n",
       "      <td>7504937.522720789919542294999999998</td>\n",
       "    </tr>\n",
       "  </tbody>\n",
       "</table>\n",
       "</div>"
      ],
      "text/plain": [
       "         date                            volumeUSD  \\\n",
       "0  1636761600  451384.6317736593532386940623125507   \n",
       "1  1636848000   304642.996682467277186022285102527   \n",
       "2  1636934400  483612.6948624568593532362423753129   \n",
       "3  1637020800  4258825.591757019697420176796614061   \n",
       "4  1637107200  43315350.56612111798324184497370248   \n",
       "\n",
       "                                tvlUSD  \n",
       "0            196699.286342662913455987  \n",
       "1            208034.458676277547941412  \n",
       "2            208080.951216703931612544  \n",
       "3            208506.295394776311376604  \n",
       "4  7504937.522720789919542294999999998  "
      ]
     },
     "execution_count": 6,
     "metadata": {},
     "output_type": "execute_result"
    }
   ],
   "source": [
    "# reads pool day datas from json\n",
    "with open('poolDayDatas.json', 'r') as file:\n",
    "    pool_day_datas = json.load(file)\n",
    "\n",
    "# parse dict as df\n",
    "df = pd.DataFrame.from_dict(pool_day_datas[\"poolDayDatas\"])\n",
    "\n",
    "# Note: there is no need to analyze fees separately,\n",
    "# as it is a fixed proportion of the pool's trade volume\n",
    "df.drop(columns=[\"feesUSD\"], inplace=True)\n",
    "\n",
    "df.head()"
   ]
  },
  {
   "cell_type": "code",
   "execution_count": 7,
   "metadata": {},
   "outputs": [
    {
     "name": "stdout",
     "output_type": "stream",
     "text": [
      "<class 'pandas.core.frame.DataFrame'>\n",
      "RangeIndex: 208 entries, 0 to 207\n",
      "Data columns (total 3 columns):\n",
      " #   Column     Non-Null Count  Dtype \n",
      "---  ------     --------------  ----- \n",
      " 0   date       208 non-null    int64 \n",
      " 1   volumeUSD  208 non-null    object\n",
      " 2   tvlUSD     208 non-null    object\n",
      "dtypes: int64(1), object(2)\n",
      "memory usage: 5.0+ KB\n"
     ]
    }
   ],
   "source": [
    "df.info()"
   ]
  },
  {
   "cell_type": "code",
   "execution_count": 8,
   "metadata": {},
   "outputs": [
    {
     "data": {
      "text/html": [
       "<div>\n",
       "<style scoped>\n",
       "    .dataframe tbody tr th:only-of-type {\n",
       "        vertical-align: middle;\n",
       "    }\n",
       "\n",
       "    .dataframe tbody tr th {\n",
       "        vertical-align: top;\n",
       "    }\n",
       "\n",
       "    .dataframe thead th {\n",
       "        text-align: right;\n",
       "    }\n",
       "</style>\n",
       "<table border=\"1\" class=\"dataframe\">\n",
       "  <thead>\n",
       "    <tr style=\"text-align: right;\">\n",
       "      <th></th>\n",
       "      <th>date</th>\n",
       "      <th>volumeUSD</th>\n",
       "      <th>tvlUSD</th>\n",
       "    </tr>\n",
       "  </thead>\n",
       "  <tbody>\n",
       "    <tr>\n",
       "      <th>0</th>\n",
       "      <td>2021-11-13</td>\n",
       "      <td>4.513846e+05</td>\n",
       "      <td>1.966993e+05</td>\n",
       "    </tr>\n",
       "    <tr>\n",
       "      <th>1</th>\n",
       "      <td>2021-11-14</td>\n",
       "      <td>3.046430e+05</td>\n",
       "      <td>2.080345e+05</td>\n",
       "    </tr>\n",
       "    <tr>\n",
       "      <th>2</th>\n",
       "      <td>2021-11-15</td>\n",
       "      <td>4.836127e+05</td>\n",
       "      <td>2.080810e+05</td>\n",
       "    </tr>\n",
       "    <tr>\n",
       "      <th>3</th>\n",
       "      <td>2021-11-16</td>\n",
       "      <td>4.258826e+06</td>\n",
       "      <td>2.085063e+05</td>\n",
       "    </tr>\n",
       "    <tr>\n",
       "      <th>4</th>\n",
       "      <td>2021-11-17</td>\n",
       "      <td>4.331535e+07</td>\n",
       "      <td>7.504938e+06</td>\n",
       "    </tr>\n",
       "  </tbody>\n",
       "</table>\n",
       "</div>"
      ],
      "text/plain": [
       "         date     volumeUSD        tvlUSD\n",
       "0  2021-11-13  4.513846e+05  1.966993e+05\n",
       "1  2021-11-14  3.046430e+05  2.080345e+05\n",
       "2  2021-11-15  4.836127e+05  2.080810e+05\n",
       "3  2021-11-16  4.258826e+06  2.085063e+05\n",
       "4  2021-11-17  4.331535e+07  7.504938e+06"
      ]
     },
     "execution_count": 8,
     "metadata": {},
     "output_type": "execute_result"
    }
   ],
   "source": [
    "# set column types\n",
    "\n",
    "# [\"date\"]: int -> date (in \"YYYY-MM-DD\")\n",
    "df[\"date\"] = df[\"date\"].map(dt.date.fromtimestamp)\n",
    "\n",
    "# [\"volumeUSD\", \"tvlUSD\"]: str -> np.float64\n",
    "df[\"volumeUSD\"] = df[\"volumeUSD\"].astype(np.float64)\n",
    "df[\"tvlUSD\"] = df[\"tvlUSD\"].astype(np.float64)\n",
    "\n",
    "df.head()"
   ]
  },
  {
   "cell_type": "code",
   "execution_count": 9,
   "metadata": {},
   "outputs": [
    {
     "name": "stdout",
     "output_type": "stream",
     "text": [
      "<class 'pandas.core.frame.DataFrame'>\n",
      "RangeIndex: 208 entries, 0 to 207\n",
      "Data columns (total 3 columns):\n",
      " #   Column     Non-Null Count  Dtype  \n",
      "---  ------     --------------  -----  \n",
      " 0   date       208 non-null    object \n",
      " 1   volumeUSD  208 non-null    float64\n",
      " 2   tvlUSD     208 non-null    float64\n",
      "dtypes: float64(2), object(1)\n",
      "memory usage: 5.0+ KB\n"
     ]
    }
   ],
   "source": [
    "df.info()"
   ]
  },
  {
   "cell_type": "code",
   "execution_count": 10,
   "metadata": {},
   "outputs": [
    {
     "name": "stdout",
     "output_type": "stream",
     "text": [
      "2021-11-13 to 2022-06-08 has 207 days, 0:00:00\n"
     ]
    }
   ],
   "source": [
    "# sanity check for number of days elapsed\n",
    "print(df[\"date\"][0], \"to\", dt.date.today(), \"has\", (dt.date.today() - df[\"date\"][0]))"
   ]
  },
  {
   "cell_type": "code",
   "execution_count": 11,
   "metadata": {},
   "outputs": [
    {
     "data": {
      "image/png": "[encoded data removed]",
      "text/plain": [
       "<Figure size 1728x432 with 2 Axes>"
      ]
     },
     "metadata": {
      "needs_background": "light"
     },
     "output_type": "display_data"
    }
   ],
   "source": [
    "# plot the pool data\n",
    "fig, ax = plt.subplots(figsize=(24, 6))\n",
    "\n",
    "# plot 1: 24H volume\n",
    "plt.subplot(1, 2, 1)\n",
    "plt.plot(df[\"date\"], df[\"volumeUSD\"])\n",
    "plt.xlabel(\"date\")\n",
    "plt.ylabel(\"24H Volume (in USD)\")\n",
    "\n",
    "# plot 2: TVL\n",
    "plt.subplot(1, 2, 2)\n",
    "plt.plot(df[\"date\"], df[\"tvlUSD\"])\n",
    "plt.xlabel(\"date\")\n",
    "plt.ylabel(\"TVL (in USD)\")\n",
    "\n",
    "plt.show()"
   ]
  },
  {
   "cell_type": "code",
   "execution_count": 15,
   "metadata": {},
   "outputs": [
    {
     "data": {
      "text/html": [
       "<div>\n",
       "<style scoped>\n",
       "    .dataframe tbody tr th:only-of-type {\n",
       "        vertical-align: middle;\n",
       "    }\n",
       "\n",
       "    .dataframe tbody tr th {\n",
       "        vertical-align: top;\n",
       "    }\n",
       "\n",
       "    .dataframe thead th {\n",
       "        text-align: right;\n",
       "    }\n",
       "</style>\n",
       "<table border=\"1\" class=\"dataframe\">\n",
       "  <thead>\n",
       "    <tr style=\"text-align: right;\">\n",
       "      <th></th>\n",
       "      <th>date</th>\n",
       "      <th>volumeUSD</th>\n",
       "      <th>tvlUSD</th>\n",
       "    </tr>\n",
       "  </thead>\n",
       "  <tbody>\n",
       "    <tr>\n",
       "      <th>180</th>\n",
       "      <td>2022-05-12</td>\n",
       "      <td>4.970918e+08</td>\n",
       "      <td>3.438614e+08</td>\n",
       "    </tr>\n",
       "    <tr>\n",
       "      <th>69</th>\n",
       "      <td>2022-01-21</td>\n",
       "      <td>1.700231e+08</td>\n",
       "      <td>5.269889e+07</td>\n",
       "    </tr>\n",
       "    <tr>\n",
       "      <th>21</th>\n",
       "      <td>2021-12-04</td>\n",
       "      <td>1.525008e+08</td>\n",
       "      <td>4.713907e+07</td>\n",
       "    </tr>\n",
       "    <tr>\n",
       "      <th>70</th>\n",
       "      <td>2022-01-22</td>\n",
       "      <td>1.491131e+08</td>\n",
       "      <td>5.272328e+07</td>\n",
       "    </tr>\n",
       "    <tr>\n",
       "      <th>179</th>\n",
       "      <td>2022-05-11</td>\n",
       "      <td>1.485899e+08</td>\n",
       "      <td>3.479251e+08</td>\n",
       "    </tr>\n",
       "    <tr>\n",
       "      <th>53</th>\n",
       "      <td>2022-01-05</td>\n",
       "      <td>1.132481e+08</td>\n",
       "      <td>5.766949e+07</td>\n",
       "    </tr>\n",
       "    <tr>\n",
       "      <th>177</th>\n",
       "      <td>2022-05-09</td>\n",
       "      <td>1.068422e+08</td>\n",
       "      <td>3.503956e+08</td>\n",
       "    </tr>\n",
       "    <tr>\n",
       "      <th>58</th>\n",
       "      <td>2022-01-10</td>\n",
       "      <td>1.062241e+08</td>\n",
       "      <td>6.030003e+07</td>\n",
       "    </tr>\n",
       "    <tr>\n",
       "      <th>56</th>\n",
       "      <td>2022-01-08</td>\n",
       "      <td>9.929644e+07</td>\n",
       "      <td>6.016817e+07</td>\n",
       "    </tr>\n",
       "    <tr>\n",
       "      <th>13</th>\n",
       "      <td>2021-11-26</td>\n",
       "      <td>9.393596e+07</td>\n",
       "      <td>9.234947e+06</td>\n",
       "    </tr>\n",
       "  </tbody>\n",
       "</table>\n",
       "</div>"
      ],
      "text/plain": [
       "           date     volumeUSD        tvlUSD\n",
       "180  2022-05-12  4.970918e+08  3.438614e+08\n",
       "69   2022-01-21  1.700231e+08  5.269889e+07\n",
       "21   2021-12-04  1.525008e+08  4.713907e+07\n",
       "70   2022-01-22  1.491131e+08  5.272328e+07\n",
       "179  2022-05-11  1.485899e+08  3.479251e+08\n",
       "53   2022-01-05  1.132481e+08  5.766949e+07\n",
       "177  2022-05-09  1.068422e+08  3.503956e+08\n",
       "58   2022-01-10  1.062241e+08  6.030003e+07\n",
       "56   2022-01-08  9.929644e+07  6.016817e+07\n",
       "13   2021-11-26  9.393596e+07  9.234947e+06"
      ]
     },
     "execution_count": 15,
     "metadata": {},
     "output_type": "execute_result"
    }
   ],
   "source": [
    "# find the days with the greatest 24H volumes\n",
    "df.sort_values(by=\"volumeUSD\", ascending=False)[:10]"
   ]
  },
  {
   "cell_type": "markdown",
   "metadata": {},
   "source": [
    "#### Observation\n",
    "2022-05-12: Luna & UST crash\n",
    "\n",
    "2022-01-21: (tbc)"
   ]
  },
  {
   "cell_type": "code",
   "execution_count": null,
   "metadata": {},
   "outputs": [],
   "source": [
    "# TODO: time series / autocorelation\n",
    "# TODO: aggregate weekly and daily patterns and look for anomalies (e.g. Friday)\n",
    "# TODO: Fourier / Laplace transform into frequency domain\n",
    "# TODO: Use K-means or piecewise linear regression to find growth stages of TVL"
   ]
  }
 ],
 "metadata": {
  "interpreter": {
   "hash": "6a926afa313b26ae1264fdcf81c726a97e69f6ba2ba780f6aa901948710f8d6e"
  },
  "kernelspec": {
   "display_name": "Python 3.8.10 64-bit",
   "language": "python",
   "name": "python3"
  },
  "language_info": {
   "codemirror_mode": {
    "name": "ipython",
    "version": 3
   },
   "file_extension": ".py",
   "mimetype": "text/x-python",
   "name": "python",
   "nbconvert_exporter": "python",
   "pygments_lexer": "ipython3",
   "version": "3.8.10"
  },
  "orig_nbformat": 4
 },
 "nbformat": 4,
 "nbformat_minor": 2
}
