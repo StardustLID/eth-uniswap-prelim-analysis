{
 "cells": [
  {
   "cell_type": "markdown",
   "metadata": {},
   "source": [
    "# Data Collection\n",
    "We limit our scope to the top 10 pools (in terms of TVL)."
   ]
  },
  {
   "cell_type": "code",
   "execution_count": null,
   "metadata": {},
   "outputs": [],
   "source": [
    "from pprint import pprint\n",
    "from gql import gql, Client\n",
    "from gql.transport.aiohttp import AIOHTTPTransport\n",
    "\n",
    "from graphql_helper import run_query"
   ]
  },
  {
   "cell_type": "code",
   "execution_count": null,
   "metadata": {},
   "outputs": [],
   "source": [
    "uniswap_v3_subgraph_url = \"https://api.thegraph.com/subgraphs/name/uniswap/uniswap-v3\""
   ]
  },
  {
   "cell_type": "code",
   "execution_count": null,
   "metadata": {},
   "outputs": [],
   "source": [
    "most_liquid_pool_ids_query = \"\"\"\n",
    "{\n",
    "  pools(first: 10, orderBy: liquidity, orderDirection: desc) {\n",
    "    id\n",
    "  }\n",
    "}\n",
    "\"\"\"\n",
    "\n",
    "most_liquid_pool_ids = run_query(uniswap_v3_subgraph_url, most_liquid_pool_ids_query)\n",
    "pprint(most_liquid_pool_ids)"
   ]
  },
  {
   "cell_type": "code",
   "execution_count": null,
   "metadata": {},
   "outputs": [],
   "source": [
    "most_liquid_pool_addrs = list(map(lambda x: x[\"id\"],most_liquid_pool_ids[\"data\"][\"pools\"]))\n",
    "most_liquid_pool_addrs\n"
   ]
  },
  {
   "cell_type": "code",
   "execution_count": null,
   "metadata": {},
   "outputs": [],
   "source": [
    "async def get_pool_by_id(id: str):\n",
    "    transport = AIOHTTPTransport(url=uniswap_v3_subgraph_url)\n",
    "\n",
    "    async with Client(\n",
    "        transport=transport,\n",
    "        fetch_schema_from_transport=True,\n",
    "    ) as session:\n",
    "        query = gql(\n",
    "            \"\"\"\n",
    "            query getPoolById($pool_addr: ID!) {\n",
    "                pool(id: $pool_addr) {\n",
    "                    tick\n",
    "                    token0 {\n",
    "                        symbol\n",
    "                        id\n",
    "                        decimals\n",
    "                    }\n",
    "                    token1 {\n",
    "                        symbol\n",
    "                        id\n",
    "                        decimals\n",
    "                    }\n",
    "                    feeTier\n",
    "                    sqrtPrice\n",
    "                    liquidity\n",
    "                }\n",
    "            }\n",
    "            \"\"\"\n",
    "        )\n",
    "        params = {\"pool_addr\": id}\n",
    "        result = await session.execute(query, variable_values=params)\n",
    "        pprint(result)\n",
    "\n",
    "for pool_addr in most_liquid_pool_addrs:\n",
    "    await get_pool_by_id(pool_addr)"
   ]
  }
 ],
 "metadata": {
  "interpreter": {
   "hash": "6a926afa313b26ae1264fdcf81c726a97e69f6ba2ba780f6aa901948710f8d6e"
  },
  "kernelspec": {
   "display_name": "Python 3.8.10 64-bit",
   "language": "python",
   "name": "python3"
  },
  "language_info": {
   "codemirror_mode": {
    "name": "ipython",
    "version": 3
   },
   "file_extension": ".py",
   "mimetype": "text/x-python",
   "name": "python",
   "nbconvert_exporter": "python",
   "pygments_lexer": "ipython3",
   "version": "3.8.10"
  },
  "orig_nbformat": 4
 },
 "nbformat": 4,
 "nbformat_minor": 2
}
